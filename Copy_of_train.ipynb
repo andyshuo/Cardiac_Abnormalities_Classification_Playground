{
  "nbformat": 4,
  "nbformat_minor": 0,
  "metadata": {
    "accelerator": "GPU",
    "colab": {
      "name": "Copy of train.ipynb",
      "provenance": [],
      "collapsed_sections": [],
      "machine_shape": "hm"
    },
    "kernelspec": {
      "display_name": "Python 3",
      "name": "python3"
    }
  },
  "cells": [
    {
      "cell_type": "code",
      "metadata": {
        "id": "t50VdO8e6swu"
      },
      "source": [
        "!pip install py-ecg-detectors mpld3 heartpy hrv-analysis\n",
        "!pip install keras-self-attention"
      ],
      "execution_count": null,
      "outputs": []
    },
    {
      "cell_type": "code",
      "metadata": {
        "id": "qawWJ6X46uEt"
      },
      "source": [
        "from scipy.io import loadmat\n",
        "import matplotlib.pyplot as plt\n",
        "from scipy.signal import *\n",
        "import numpy as np\n",
        "from ecgdetectors import Detectors\n",
        "import tarfile\n",
        "#from biosppy import storage\n",
        "#from biosppy.signals import ecg\n",
        "import mpld3\n",
        "mpld3.enable_notebook()\n",
        "import os\n",
        "#import pywt\n",
        "#import pywt.data\n",
        "import matplotlib.patches as mpatches\n",
        "import heartpy as hp\n",
        "from hrvanalysis import remove_outliers, remove_ectopic_beats, interpolate_nan_values\n",
        "import tensorflow as tf\n",
        "import random\n",
        "import shutil\n",
        "import pandas as pd\n",
        "from zipfile import ZipFile\n",
        "from tensorflow.keras.layers import *\n",
        "from keras.utils.vis_utils import plot_model\n",
        "from sklearn.ensemble import RandomForestClassifier\n",
        "from keras_self_attention import SeqSelfAttention\n",
        "import csv"
      ],
      "execution_count": null,
      "outputs": []
    },
    {
      "cell_type": "code",
      "metadata": {
        "colab": {
          "base_uri": "https://localhost:8080/"
        },
        "id": "G5ZQEDKPo584",
        "outputId": "6fd4e6d1-77de-4afe-c63e-538e4c0178c7"
      },
      "source": [
        "from google.colab import drive\n",
        "drive.mount('/content/drive/',force_remount=True)"
      ],
      "execution_count": null,
      "outputs": [
        {
          "output_type": "stream",
          "text": [
            "Mounted at /content/drive/\n"
          ],
          "name": "stdout"
        }
      ]
    },
    {
      "cell_type": "code",
      "metadata": {
        "id": "FoXfqbh30LmQ"
      },
      "source": [
        ""
      ],
      "execution_count": null,
      "outputs": []
    },
    {
      "cell_type": "code",
      "metadata": {
        "id": "fTjnpHEJo9tn"
      },
      "source": [
        "def extract_data():\n",
        "  path = \"/content/drive/MyDrive/signal_data/\"\n",
        "  with ZipFile(path+\"X.zip\",'r') as zip:\n",
        "    zip.extractall()\n",
        "  with ZipFile(path+\"y.zip\",'r') as zip:\n",
        "    zip.extractall()\n",
        "  with ZipFile(path+\"labels.zip\",'r') as zip:\n",
        "    zip.extractall()\n",
        "  with ZipFile(path+\"Feature.zip\",'r') as zip:\n",
        "    zip.extractall()"
      ],
      "execution_count": null,
      "outputs": []
    },
    {
      "cell_type": "code",
      "metadata": {
        "id": "eDAnDj0PpVgU"
      },
      "source": [
        "extract_data()"
      ],
      "execution_count": null,
      "outputs": []
    },
    {
      "cell_type": "code",
      "metadata": {
        "colab": {
          "base_uri": "https://localhost:8080/"
        },
        "id": "_6zPZzbFciEd",
        "outputId": "56062d9d-641f-4015-d6d4-5e4d96113d5b"
      },
      "source": [
        "print(len(os.listdir(\"/content/labels/\")))\n",
        "print(len(os.listdir(\"/content/X/\")))\n",
        "print(len(os.listdir(\"/content/y/\")))\n",
        "print(len(os.listdir(\"/content/Feature/\")))"
      ],
      "execution_count": null,
      "outputs": [
        {
          "output_type": "stream",
          "text": [
            "33362\n",
            "33362\n",
            "33362\n",
            "33362\n"
          ],
          "name": "stdout"
        }
      ]
    },
    {
      "cell_type": "code",
      "metadata": {
        "id": "kx9F0ppu2c5Y"
      },
      "source": [
        "def get_test_data():\n",
        "  X=[]\n",
        "  y=[]\n",
        "  id=[]\n",
        "  feat=[]\n",
        "  \n",
        "  x_list = os.listdir(\"/content/X_test/\")\n",
        "  random.shuffle(x_list)\n",
        "  for xfile in x_list:\n",
        "    X.append(np.load(\"/content/X_test/\"+xfile))\n",
        "    yfile = xfile[:-4]+\"_label.npy\"\n",
        "    featfile = xfile[:-4]+\"_feature.npy\"\n",
        "    y.append(np.load(\"/content/y_test/\"+yfile))\n",
        "    feat.append(np.load(\"/content/Feature_test/\"+featfile))\n",
        "    id.append(xfile[:-4])\n",
        "  return np.array(X),np.array(feat),np.array(y),np.array(id)"
      ],
      "execution_count": null,
      "outputs": []
    },
    {
      "cell_type": "code",
      "metadata": {
        "id": "5ZaqPfmf3w0c"
      },
      "source": [
        "!mkdir Tests\n",
        "!mkdir labels_done\n",
        "!mkdir outputs"
      ],
      "execution_count": null,
      "outputs": []
    },
    {
      "cell_type": "code",
      "metadata": {
        "id": "v7rUyl7p0f62"
      },
      "source": [
        "def generator_2(batch_size):\n",
        "  X_file_list = np.array(os.listdir(\"/content/X_train/\"))\n",
        "  random.shuffle(X_file_list)\n",
        "  while True:\n",
        "    X=[]\n",
        "    y=[]\n",
        "    feat=[]\n",
        "    count=0\n",
        "    steps = len(X_file_list)/batch_size\n",
        "    splitted = np.array_split(X_file_list,steps)\n",
        "    for ls in splitted:\n",
        "      X=[]\n",
        "      y=[]\n",
        "      feat=[]\n",
        "      for file_name in ls:\n",
        "        X.append(np.load(\"/content/X_train/\"+file_name))\n",
        "        y_file_name = file_name[:-4]+\"_label.npy\"\n",
        "        feat_file_name = file_name[:-4]+\"_feature.npy\"\n",
        "        y.append(np.load(\"/content/y_train/\"+y_file_name))\n",
        "        feat.append(np.load(\"/content/Feature_train/\"+feat_file_name))\n",
        "      #print(np.array(X).shape)\n",
        "      #print(np.array(y).shape)\n",
        "      yield np.array(X),np.array(y)\n",
        "\n",
        "    #for file_name in X_file_list:\n",
        "    #  X.append(np.load(\"/content/X_train/\"+file_name))\n",
        "    #  y_file_name = file_name[:-4]+\"_label.npy\"\n",
        "    #  feat_file_name = file_name[:-4]+\"_feature.npy\"\n",
        "    #  y.append(np.load(\"/content/y_train/\"+y_file_name))\n",
        "    #  feat.append(np.load(\"/content/Feature_train/\"+feat_file_name))\n",
        "      #print(np.array(X)[None,...].shape)\n",
        "      #print(np.array(y)[None,...].shape)\n",
        "      #print(y)\n",
        "      #yield [np.array(X)[None,...],np.array(feat)[None,...]],np.array(y)[None,...]"
      ],
      "execution_count": null,
      "outputs": []
    },
    {
      "cell_type": "code",
      "metadata": {
        "id": "tt5yFZiSSwbL"
      },
      "source": [
        "def sep_train_test():\n",
        "  !mkdir X_train\n",
        "  !mkdir y_train\n",
        "  !mkdir X_test\n",
        "  !mkdir y_test\n",
        "  !mkdir Feature_train\n",
        "  !mkdir Feature_test\n",
        "  ls = os.listdir(\"/content/X/\")\n",
        "  random.shuffle(ls)\n",
        "  train = ls[:int(len(ls)*0.8)]\n",
        "  test = ls[int(len(ls)*0.8):]\n",
        "  for file_name in train:\n",
        "    y_file_name = file_name[:-4]+\"_label.npy\"\n",
        "    fea_file_name = file_name[:-4]+\"_feature.npy\"\n",
        "    shutil.copyfile(\"/content/X/\"+file_name,\"/content/X_train/\"+file_name)\n",
        "    shutil.copyfile(\"/content/y/\"+y_file_name,\"/content/y_train/\"+y_file_name)\n",
        "    shutil.copyfile(\"/content/Feature/\"+fea_file_name,\"/content/Feature_train/\"+fea_file_name)\n",
        "\n",
        "  for file_name in test:\n",
        "    y_file_name = file_name[:-4]+\"_label.npy\"\n",
        "    fea_file_name = file_name[:-4]+\"_feature.npy\"\n",
        "    shutil.copyfile(\"/content/X/\"+file_name,\"/content/X_test/\"+file_name)\n",
        "    shutil.copyfile(\"/content/y/\"+y_file_name,\"/content/y_test/\"+y_file_name)\n",
        "    shutil.copyfile(\"/content/Feature/\"+fea_file_name,\"/content/Feature_test/\"+fea_file_name)"
      ],
      "execution_count": null,
      "outputs": []
    },
    {
      "cell_type": "code",
      "metadata": {
        "colab": {
          "base_uri": "https://localhost:8080/"
        },
        "id": "8Tit0qsNDFLq",
        "outputId": "fef4eb1b-7611-4e6b-d400-e661bc175f6d"
      },
      "source": [
        "print(len(os.listdir(\"Feature\")))\n",
        "print(len(os.listdir(\"X\")))\n",
        "print(len(os.listdir(\"y\")))\n",
        "print(len(os.listdir(\"labels\")))"
      ],
      "execution_count": null,
      "outputs": [
        {
          "output_type": "stream",
          "text": [
            "33362\n",
            "33362\n",
            "33362\n",
            "33362\n"
          ],
          "name": "stdout"
        }
      ]
    },
    {
      "cell_type": "code",
      "metadata": {
        "id": "eyvIn6K--B2E"
      },
      "source": [
        "!mkdir X_train\n",
        "!mkdir y_train\n",
        "!mkdir X_test\n",
        "!mkdir y_test\n",
        "!mkdir Feature_train\n",
        "!mkdir Feature_test"
      ],
      "execution_count": null,
      "outputs": []
    },
    {
      "cell_type": "code",
      "metadata": {
        "colab": {
          "base_uri": "https://localhost:8080/"
        },
        "id": "pq685xLzVpvb",
        "outputId": "d30b845d-4da5-451c-d73a-02f09ed0b7ab"
      },
      "source": [
        "!rm -r X_train/*\n",
        "!rm -r y_train/*\n",
        "!rm -r X_test/*\n",
        "!rm -r y_test/*\n",
        "!rm -r Feature_train/*\n",
        "!rm -r Feature_test/*"
      ],
      "execution_count": null,
      "outputs": [
        {
          "output_type": "stream",
          "text": [
            "rm: cannot remove 'X_train/*': No such file or directory\n",
            "rm: cannot remove 'y_train/*': No such file or directory\n",
            "rm: cannot remove 'X_test/*': No such file or directory\n",
            "rm: cannot remove 'y_test/*': No such file or directory\n",
            "rm: cannot remove 'Feature_train/*': No such file or directory\n",
            "rm: cannot remove 'Feature_test/*': No such file or directory\n"
          ],
          "name": "stdout"
        }
      ]
    },
    {
      "cell_type": "code",
      "metadata": {
        "colab": {
          "background_save": true,
          "base_uri": "https://localhost:8080/"
        },
        "id": "l2me5BtXVXRQ",
        "outputId": "2eeaf6eb-fc20-4ef1-880d-fdaf4cbe9c53"
      },
      "source": [
        "sep_train_test()"
      ],
      "execution_count": null,
      "outputs": [
        {
          "output_type": "stream",
          "text": [
            "mkdir: cannot create directory ‘X_train’: File exists\n",
            "mkdir: cannot create directory ‘y_train’: File exists\n",
            "mkdir: cannot create directory ‘X_test’: File exists\n",
            "mkdir: cannot create directory ‘y_test’: File exists\n",
            "mkdir: cannot create directory ‘Feature_train’: File exists\n",
            "mkdir: cannot create directory ‘Feature_test’: File exists\n"
          ],
          "name": "stdout"
        }
      ]
    },
    {
      "cell_type": "code",
      "metadata": {
        "colab": {
          "background_save": true
        },
        "id": "Gbkjr-5kV4kb",
        "outputId": "581458c2-f5a6-4f08-f1f7-36f76137ef59"
      },
      "source": [
        "print(len(os.listdir(\"Feature_test/\")))\n",
        "print(len(os.listdir(\"Feature_train/\")))\n",
        "print(len(os.listdir(\"X_train/\")))\n",
        "print(len(os.listdir(\"X_test/\")))\n",
        "print(len(os.listdir(\"y_train/\")))\n",
        "print(len(os.listdir(\"y_test/\")))"
      ],
      "execution_count": null,
      "outputs": [
        {
          "output_type": "stream",
          "text": [
            "6673\n",
            "26689\n",
            "26689\n",
            "6673\n",
            "26689\n",
            "6673\n"
          ],
          "name": "stdout"
        }
      ]
    },
    {
      "cell_type": "code",
      "metadata": {
        "colab": {
          "background_save": true
        },
        "id": "bMacPD15MGSp"
      },
      "source": [
        "inputs=0\n",
        "outupts=0\n",
        "x=0"
      ],
      "execution_count": null,
      "outputs": []
    },
    {
      "cell_type": "code",
      "metadata": {
        "colab": {
          "background_save": true
        },
        "id": "aaVVs1Hd2T3_"
      },
      "source": [
        "def res_block(filters,prev):\n",
        "  x = Conv1D(filters,1)(prev)\n",
        "  x = BatchNormalization()(x)\n",
        "  x = LeakyReLU()(x)\n",
        "\n",
        "  y = Conv1D(filters,1)(x)\n",
        "  y = BatchNormalization()(y)\n",
        "  y = LeakyReLU()(y)\n",
        "\n",
        "  y = Conv1D(filters,1)(y)\n",
        "  y = BatchNormalization()(y)\n",
        "\n",
        "  z = add([x,y])\n",
        "  z = LeakyReLU()(z)\n",
        "\n",
        "  z = Dropout(0.2)(z)\n",
        "\n",
        "  return z"
      ],
      "execution_count": null,
      "outputs": []
    },
    {
      "cell_type": "code",
      "metadata": {
        "colab": {
          "background_save": true
        },
        "id": "LADRfnUo79NT"
      },
      "source": [
        ""
      ],
      "execution_count": null,
      "outputs": []
    },
    {
      "cell_type": "code",
      "metadata": {
        "colab": {
          "background_save": true
        },
        "id": "mLTYruSw79D0"
      },
      "source": [
        "def mine():\n",
        "  inputs = tf.keras.Input(shape=(12,5000,))\n",
        "  feature_inputs = tf.keras.Input(shape=(13,))\n",
        "\n",
        "  x = res_block(32,inputs)\n",
        "  x = res_block(64,x)\n",
        "  x = res_block(128,x)\n",
        "  x = res_block(128,x)\n",
        "  x = res_block(256,x)\n",
        "  x = res_block(512,x)\n",
        "  #print(x.shape)\n",
        "  x = LSTM(512,return_sequences=True)(x)\n",
        "  #print(x.shape)\n",
        "  x = LSTM(512,return_sequences=True,return_state=True)(x)\n",
        "  #print(x)\n",
        "  x = Attention()(x)\n",
        "  feature_x = Dense(13,activation=\"relu\")(feature_inputs)\n",
        "  #print(x.shape)\n",
        "  x = Dense(256,activation=\"sigmoid\")(x)\n",
        "  x = Flatten()(x)\n",
        "  x = Dense(32,activation=\"sigmoid\")(x)\n",
        "  combined = tf.keras.layers.concatenate([x,feature_x])\n",
        "  y = Dense(27)(combined)\n",
        "\n",
        "  outputs=Activation(activation=\"sigmoid\")(y)\n",
        "  return [inputs,feature_inputs], outputs"
      ],
      "execution_count": null,
      "outputs": []
    },
    {
      "cell_type": "code",
      "metadata": {
        "id": "t0-LgYMv8DK4"
      },
      "source": [
        "def nn():\n",
        "  inputs = tf.keras.Input(shape=(12,5000,))\n",
        "  feature_inputs = tf.keras.Input(shape=(13,))\n",
        "\n",
        "  x = res_block(32,inputs)\n",
        "  x = res_block(64,x)\n",
        "  x = res_block(128,x)\n",
        "  x = res_block(128,x)\n",
        "  x = res_block(256,x)\n",
        "  x = res_block(512,x)\n",
        "  #print(x.shape)\n",
        "  x = LSTM(512,return_sequences=True)(x)\n",
        "  #print(x.shape)\n",
        "  x = LSTM(512,return_sequences=True,return_state=True)(x)\n",
        "  #print(x)\n",
        "  x = Attention()(x)\n",
        "  #feature_x = Dense(13,activation=\"relu\")(feature_inputs)\n",
        "  #print(x.shape)\n",
        "  #x = Dense(256,activation=\"sigmoid\")(x)\n",
        "  x = Dense(512)(x)\n",
        "  x = Flatten()(x)\n",
        "  #x = Dense(32,activation=\"sigmoid\")(x)\n",
        "  #combined = tf.keras.layers.concatenate([x,feature_x])\n",
        "  x = Dense(27)(x)\n",
        "\n",
        "  outputs=Activation(activation=\"sigmoid\")(x)\n",
        "  return inputs,outputs"
      ],
      "execution_count": null,
      "outputs": []
    },
    {
      "cell_type": "code",
      "metadata": {
        "id": "1IHXFJhz8C8j"
      },
      "source": [
        ""
      ],
      "execution_count": null,
      "outputs": []
    },
    {
      "cell_type": "code",
      "metadata": {
        "id": "ER7gyO6RmzuA"
      },
      "source": [
        "inputs, outputs = nn()\n",
        "model = tf.keras.Model(inputs=inputs,outputs=outputs,name=\"resnet\")\n",
        "model.compile(optimizer=tf.keras.optimizers.Adam(learning_rate=1e-3,clipvalue=0.5,clipnorm=1.0), loss=tf.keras.losses.BinaryCrossentropy(),metrics=[tf.keras.metrics.BinaryCrossentropy()])"
      ],
      "execution_count": null,
      "outputs": []
    },
    {
      "cell_type": "code",
      "metadata": {
        "id": "zMD7ffurnBzB"
      },
      "source": [
        "model.summary()"
      ],
      "execution_count": null,
      "outputs": []
    },
    {
      "cell_type": "code",
      "metadata": {
        "id": "xN1mkVSKWR9l"
      },
      "source": [
        "batch_size=1000\n",
        "num_of_data=26689 #26689"
      ],
      "execution_count": null,
      "outputs": []
    },
    {
      "cell_type": "code",
      "metadata": {
        "id": "46yGz9z0zw6j"
      },
      "source": [
        "def produce_output(record_id,labels,outputs,threshold):\n",
        "  ls = [\n",
        "        270492004 , \n",
        "        164889003 , \n",
        "        164890007 ,\n",
        "        426627000 , \n",
        "        713427006 , \n",
        "        713426002 , \n",
        "        445118002 ,\n",
        "        39732003 ,\n",
        "        164909002 ,\n",
        "        251146004 , \n",
        "        698252002 ,\n",
        "        10370003 ,\n",
        "        284470004,\n",
        "        427172004, \n",
        "        164947007 , \n",
        "        111975006 ,\n",
        "        164917005 , \n",
        "        47665007 ,\n",
        "        59118001 , \n",
        "        427393009 ,\n",
        "        426177001,\n",
        "        426783006 ,\n",
        "        427084000 ,\n",
        "        63593006 ,\n",
        "        164934002 ,\n",
        "        59931005 ,\n",
        "        17338001]\n",
        "  d = {}\n",
        "  binary_outputs=[]\n",
        "  scalar_outputs=[]\n",
        "  for i in range(len(ls)):\n",
        "    if outputs[i]>=threshold:#testing value: 0.5, 0.45, 0.4, 0.35, 0.3, 0.25\n",
        "      binary_outputs.append(1)\n",
        "      scalar_outputs.append(outputs[i])\n",
        "      #d[ls[i]] = [1,outputs[i]]\n",
        "    else:\n",
        "      binary_outputs.append(0)\n",
        "      scalar_outputs.append(outputs[i])\n",
        "      #d[ls[i]] = [0,outputs[i]]\n",
        "  with open(\"outputs/\"+record_id+\".csv\",\"a\") as myfile:\n",
        "    wr = csv.writer(myfile)\n",
        "    wr.writerows([ls,binary_outputs,scalar_outputs])\n",
        "  #df = pd.DataFrame(d)\n",
        "  #df.to_csv(\"outputs/\"+record_id+\".csv\")"
      ],
      "execution_count": null,
      "outputs": []
    },
    {
      "cell_type": "code",
      "metadata": {
        "id": "Y1HPWDIYo0mp"
      },
      "source": [
        "def output(model):\n",
        "  !rm -r labels_done/*\n",
        "  !rm -r outputs/*\n",
        "  X,feat,y,ids = get_test_data()\n",
        "  results = model.predict(X)\n",
        "  #print(results)\n",
        "  for i in range(len(X)):\n",
        "    produce_output(ids[i],y[i],results[i],0.5)\n",
        "  for i in ids:\n",
        "    shutil.copyfile(\"/content/labels/\"+i+\".hea\",\"/content/labels_done/\"+i+\".hea\")\n",
        "  print(len(os.listdir(\"/content/labels_done\")))\n",
        "  print(len(os.listdir(\"/content/outputs\")))\n",
        "  \n",
        "  !mkdir Tests/resnet_refine_100_512\n",
        "  plot_model(model,to_file=\"Tests/resnet_refine_100_512/plot.png\", show_shapes=True, show_layer_names=True)\n",
        "  !python evaluate_model.py labels_done outputs Tests/resnet_refine_100_512/scores.csv Tests/resnet_refine_100_512/class_scores.csv\n",
        "  model.save(\"Tests/resnet_refine_100_512/model\")\n",
        "  X=[]\n",
        "  y=[]\n",
        "  ids=[]"
      ],
      "execution_count": null,
      "outputs": []
    },
    {
      "cell_type": "code",
      "metadata": {
        "colab": {
          "base_uri": "https://localhost:8080/"
        },
        "id": "CVdOqTnP7pou",
        "outputId": "9243565e-31fa-46c4-e2e2-750cb8d01b91"
      },
      "source": [
        "callbacks = tf.keras.callbacks.ReduceLROnPlateau(monitor=\"binary_crossentropy\",factor=0.5,patient=5,min_lr=1e-7)\n",
        "!mkdir drive/MyDrive/signal_data/model_check_point\n",
        "#model_check_point = tf.keras.callbacks.ModelCheckpoint(\"/content/drive/MyDrive/signal_data/model_check_point/\",monitor=\"brinary_crossentropy\",save_freq=\"epoch\")"
      ],
      "execution_count": null,
      "outputs": [
        {
          "output_type": "stream",
          "text": [
            "mkdir: cannot create directory ‘drive/MyDrive/signal_data/model_check_point’: File exists\n"
          ],
          "name": "stdout"
        }
      ]
    },
    {
      "cell_type": "code",
      "metadata": {
        "id": "KI6ho5YJ6prm"
      },
      "source": [
        "history = model.fit_generator(generator=generator_2(batch_size),steps_per_epoch=num_of_data/batch_size, epochs=100,callbacks=[callbacks])\n",
        "output(model)"
      ],
      "execution_count": null,
      "outputs": []
    },
    {
      "cell_type": "markdown",
      "metadata": {
        "id": "IsPF6gddR_Rk"
      },
      "source": [
        ""
      ]
    },
    {
      "cell_type": "code",
      "metadata": {
        "colab": {
          "base_uri": "https://localhost:8080/",
          "height": 167
        },
        "id": "v-YarhSOkrzV",
        "outputId": "6ab95d73-6b26-40af-ff1a-3d5951ff24b5"
      },
      "source": [
        "while True: pass"
      ],
      "execution_count": null,
      "outputs": [
        {
          "output_type": "error",
          "ename": "KeyboardInterrupt",
          "evalue": "ignored",
          "traceback": [
            "\u001b[0;31m---------------------------------------------------------------------------\u001b[0m",
            "\u001b[0;31mKeyboardInterrupt\u001b[0m                         Traceback (most recent call last)",
            "\u001b[0;32m<ipython-input-29-b16dc615ea65>\u001b[0m in \u001b[0;36m<module>\u001b[0;34m()\u001b[0m\n\u001b[0;32m----> 1\u001b[0;31m \u001b[0;32mwhile\u001b[0m \u001b[0;32mTrue\u001b[0m\u001b[0;34m:\u001b[0m \u001b[0;32mpass\u001b[0m\u001b[0;34m\u001b[0m\u001b[0;34m\u001b[0m\u001b[0m\n\u001b[0m",
            "\u001b[0;31mKeyboardInterrupt\u001b[0m: "
          ]
        }
      ]
    },
    {
      "cell_type": "code",
      "metadata": {
        "colab": {
          "base_uri": "https://localhost:8080/"
        },
        "id": "MLvorCQAQMJx",
        "outputId": "ddbc6a18-afd1-4e9e-abf6-aa25916e9a8e"
      },
      "source": [
        "output(model)"
      ],
      "execution_count": null,
      "outputs": [
        {
          "output_type": "stream",
          "text": [
            "6673\n",
            "6673\n",
            "Loading weights...\n",
            "Loading label and output files...\n",
            "Evaluating model...\n",
            "- AUROC and AUPRC...\n",
            "- Accuracy...\n",
            "- F-measure...\n",
            "- Challenge metric...\n",
            "3391.472857142852\n",
            "8263.306369047625\n",
            "3734.8209821428673\n",
            "-0.0758196385027303\n",
            "Done.\n"
          ],
          "name": "stdout"
        },
        {
          "output_type": "stream",
          "text": [
            "WARNING:absl:Found untraced functions such as lstm_cell_4_layer_call_fn, lstm_cell_4_layer_call_and_return_conditional_losses, lstm_cell_5_layer_call_fn, lstm_cell_5_layer_call_and_return_conditional_losses, lstm_cell_4_layer_call_fn while saving (showing 5 of 10). These functions will not be directly callable after loading.\n",
            "WARNING:absl:Found untraced functions such as lstm_cell_4_layer_call_fn, lstm_cell_4_layer_call_and_return_conditional_losses, lstm_cell_5_layer_call_fn, lstm_cell_5_layer_call_and_return_conditional_losses, lstm_cell_4_layer_call_fn while saving (showing 5 of 10). These functions will not be directly callable after loading.\n"
          ],
          "name": "stderr"
        },
        {
          "output_type": "stream",
          "text": [
            "INFO:tensorflow:Assets written to: Tests/resnet_refine_2_test/model/assets\n"
          ],
          "name": "stdout"
        },
        {
          "output_type": "stream",
          "text": [
            "INFO:tensorflow:Assets written to: Tests/resnet_refine_2_test/model/assets\n"
          ],
          "name": "stderr"
        }
      ]
    },
    {
      "cell_type": "code",
      "metadata": {
        "colab": {
          "base_uri": "https://localhost:8080/",
          "height": 35
        },
        "id": "VwIDnnKc1Xa9",
        "outputId": "02252b62-da00-4a86-c6fd-4c3089af82c3"
      },
      "source": [
        "shutil.make_archive(\"labels_done\",\"zip\",\".\",\"labels_done\")\n",
        "shutil.make_archive(\"outputs\",\"zip\",\".\",\"outputs\")"
      ],
      "execution_count": null,
      "outputs": [
        {
          "output_type": "execute_result",
          "data": {
            "application/vnd.google.colaboratory.intrinsic+json": {
              "type": "string"
            },
            "text/plain": [
              "'/content/outputs.zip'"
            ]
          },
          "metadata": {
            "tags": []
          },
          "execution_count": 38
        }
      ]
    },
    {
      "cell_type": "code",
      "metadata": {
        "colab": {
          "base_uri": "https://localhost:8080/",
          "height": 17
        },
        "id": "lUhRlUXvL-Cd",
        "outputId": "fbafac73-4ae9-4a9b-a568-6bec58c05163"
      },
      "source": [
        "from google.colab import files\n",
        "files.download(\"outputs.zip\")\n"
      ],
      "execution_count": null,
      "outputs": [
        {
          "output_type": "display_data",
          "data": {
            "application/javascript": [
              "\n",
              "    async function download(id, filename, size) {\n",
              "      if (!google.colab.kernel.accessAllowed) {\n",
              "        return;\n",
              "      }\n",
              "      const div = document.createElement('div');\n",
              "      const label = document.createElement('label');\n",
              "      label.textContent = `Downloading \"${filename}\": `;\n",
              "      div.appendChild(label);\n",
              "      const progress = document.createElement('progress');\n",
              "      progress.max = size;\n",
              "      div.appendChild(progress);\n",
              "      document.body.appendChild(div);\n",
              "\n",
              "      const buffers = [];\n",
              "      let downloaded = 0;\n",
              "\n",
              "      const channel = await google.colab.kernel.comms.open(id);\n",
              "      // Send a message to notify the kernel that we're ready.\n",
              "      channel.send({})\n",
              "\n",
              "      for await (const message of channel.messages) {\n",
              "        // Send a message to notify the kernel that we're ready.\n",
              "        channel.send({})\n",
              "        if (message.buffers) {\n",
              "          for (const buffer of message.buffers) {\n",
              "            buffers.push(buffer);\n",
              "            downloaded += buffer.byteLength;\n",
              "            progress.value = downloaded;\n",
              "          }\n",
              "        }\n",
              "      }\n",
              "      const blob = new Blob(buffers, {type: 'application/binary'});\n",
              "      const a = document.createElement('a');\n",
              "      a.href = window.URL.createObjectURL(blob);\n",
              "      a.download = filename;\n",
              "      div.appendChild(a);\n",
              "      a.click();\n",
              "      div.remove();\n",
              "    }\n",
              "  "
            ],
            "text/plain": [
              "<IPython.core.display.Javascript object>"
            ]
          },
          "metadata": {
            "tags": []
          }
        },
        {
          "output_type": "display_data",
          "data": {
            "application/javascript": [
              "download(\"download_cf6c38f7-0999-45f3-bb8e-4cdc3f48526e\", \"outputs.zip\", 3482304)"
            ],
            "text/plain": [
              "<IPython.core.display.Javascript object>"
            ]
          },
          "metadata": {
            "tags": []
          }
        }
      ]
    },
    {
      "cell_type": "code",
      "metadata": {
        "id": "MbTl9kN0NxTb"
      },
      "source": [
        "!mkdir /content/drive/MyDrive/signal_data/Tests_4"
      ],
      "execution_count": null,
      "outputs": []
    },
    {
      "cell_type": "code",
      "metadata": {
        "colab": {
          "base_uri": "https://localhost:8080/"
        },
        "id": "t-tHhys4MrJS",
        "outputId": "b5226faf-9f62-483c-825b-b07875af95cc"
      },
      "source": [
        "from distutils.dir_util import copy_tree\n",
        "copy_tree(\"Tests\", \"/content/drive/MyDrive/signal_data/Tests_4/\")"
      ],
      "execution_count": null,
      "outputs": [
        {
          "output_type": "execute_result",
          "data": {
            "text/plain": [
              "['/content/drive/MyDrive/signal_data/Tests_4/resnet_refine_100_512123/model/variables/variables.data-00000-of-00001',\n",
              " '/content/drive/MyDrive/signal_data/Tests_4/resnet_refine_100_512123/model/variables/variables.index',\n",
              " '/content/drive/MyDrive/signal_data/Tests_4/resnet_refine_100_512123/model/saved_model.pb',\n",
              " '/content/drive/MyDrive/signal_data/Tests_4/resnet_refine_100_512123/plot.png',\n",
              " '/content/drive/MyDrive/signal_data/Tests_4/resnet_refine_100_512123/class_scores.csv',\n",
              " '/content/drive/MyDrive/signal_data/Tests_4/resnet_refine_100_512123/scores.csv']"
            ]
          },
          "metadata": {
            "tags": []
          },
          "execution_count": 41
        }
      ]
    },
    {
      "cell_type": "code",
      "metadata": {
        "id": "atA613kJNs8a"
      },
      "source": [
        "output(model)"
      ],
      "execution_count": null,
      "outputs": []
    },
    {
      "cell_type": "code",
      "metadata": {
        "id": "UgaOCvJwc5T-"
      },
      "source": [
        "temp_labels = np.load(\"tttt/labels.npy\")\n",
        "temp_outputs = np.load(\"tttt/outputs.npy\")"
      ],
      "execution_count": null,
      "outputs": []
    },
    {
      "cell_type": "code",
      "metadata": {
        "colab": {
          "base_uri": "https://localhost:8080/"
        },
        "id": "P6zvMxPndAqd",
        "outputId": "ee3c1863-ac30-4676-d9b9-3bd5dbe0bd00"
      },
      "source": [
        "print(temp_labels.shape)\n",
        "print(temp_outputs.shape)"
      ],
      "execution_count": null,
      "outputs": [
        {
          "output_type": "stream",
          "text": [
            "(6673, 24)\n",
            "(6673, 24)\n"
          ],
          "name": "stdout"
        }
      ]
    },
    {
      "cell_type": "code",
      "metadata": {
        "colab": {
          "base_uri": "https://localhost:8080/"
        },
        "id": "sO5-kP9GdFul",
        "outputId": "389c26ec-6fd9-4f8b-949b-d9d00dc5063e"
      },
      "source": [
        "temp_labels[0]"
      ],
      "execution_count": null,
      "outputs": [
        {
          "output_type": "execute_result",
          "data": {
            "text/plain": [
              "array([False, False, False, False,  True, False, False, False, False,\n",
              "       False, False, False, False, False, False, False, False, False,\n",
              "       False, False, False, False, False, False])"
            ]
          },
          "metadata": {
            "tags": []
          },
          "execution_count": 83
        }
      ]
    },
    {
      "cell_type": "code",
      "metadata": {
        "id": "pRoR7yYWdHdF"
      },
      "source": [
        "for i in range(len(temp_outputs)):\n",
        "  for j in range(len(temp_outputs[i])):\n",
        "    if temp_outputs[i][j]:\n",
        "      print(True)"
      ],
      "execution_count": null,
      "outputs": []
    },
    {
      "cell_type": "code",
      "metadata": {
        "colab": {
          "base_uri": "https://localhost:8080/",
          "height": 326
        },
        "id": "CZEdItDqdLMK",
        "outputId": "87d03af5-70ea-4aee-be6c-ff24cdf32630"
      },
      "source": [
        "plt.plot(history.history[\"lr\"])"
      ],
      "execution_count": null,
      "outputs": [
        {
          "output_type": "execute_result",
          "data": {
            "text/plain": [
              "[<matplotlib.lines.Line2D at 0x7f85058b8b50>]"
            ]
          },
          "metadata": {
            "tags": []
          },
          "execution_count": 29
        },
        {
          "output_type": "display_data",
          "data": {
            "image/png": "[encoded data removed]",
            "text/html": [
              "\n",
              "\n",
              "<style>\n",
              "\n",
              "</style>\n",
              "\n",
              "<div id=\"fig_el711402093002997283831772334\"></div>\n",
              "<script>\n",
              "function mpld3_load_lib(url, callback){\n",
              "  var s = document.createElement('script');\n",
              "  s.src = url;\n",
              "  s.async = true;\n",
              "  s.onreadystatechange = s.onload = callback;\n",
              "  s.onerror = function(){console.warn(\"failed to load library \" + url);};\n",
              "  document.getElementsByTagName(\"head\")[0].appendChild(s);\n",
              "}\n",
              "\n",
              "if(typeof(mpld3) !== \"undefined\" && mpld3._mpld3IsLoaded){\n",
              "   // already loaded: just create the figure\n",
              "   !function(mpld3){\n",
              "       \n",
              "       mpld3.draw_figure(\"fig_el711402093002997283831772334\", {\"width\": 432.0, \"height\": 288.0, \"axes\": [{\"bbox\": [0.125, 0.125, 0.775, 0.755], \"xlim\": [-4.95, 103.95], \"ylim\": [-0.004993280075382245, 0.10499968156466366], \"xdomain\": [-4.95, 103.95], \"ydomain\": [-0.004993280075382245, 0.10499968156466366], \"xscale\": \"linear\", \"yscale\": \"linear\", \"axes\": [{\"position\": \"bottom\", \"nticks\": 8, \"tickvalues\": null, \"tickformat_formatter\": \"\", \"tickformat\": null, \"scale\": \"linear\", \"fontsize\": 10.0, \"grid\": {\"gridOn\": false}, \"visible\": true}, {\"position\": \"left\", \"nticks\": 8, \"tickvalues\": null, \"tickformat_formatter\": \"\", \"tickformat\": null, \"scale\": \"linear\", \"fontsize\": 10.0, \"grid\": {\"gridOn\": false}, \"visible\": true}], \"axesbg\": \"#FFFFFF\", \"axesbgalpha\": null, \"zoomable\": true, \"id\": \"el71140209300349840\", \"lines\": [{\"data\": \"data01\", \"xindex\": 0, \"yindex\": 1, \"coordinates\": \"data\", \"id\": \"el71140209300409168\", \"color\": \"#1F77B4\", \"linewidth\": 1.5, \"dasharray\": \"none\", \"alpha\": 1, \"zorder\": 2, \"drawstyle\": \"default\"}], \"paths\": [], \"markers\": [], \"texts\": [], \"collections\": [], \"images\": [], \"sharex\": [], \"sharey\": []}], \"data\": {\"data01\": [[0.0, 0.10000000149011612], [1.0, 0.10000000149011612], [2.0, 0.10000000149011612], [3.0, 0.10000000149011612], [4.0, 0.10000000149011612], [5.0, 0.10000000149011612], [6.0, 0.10000000149011612], [7.0, 0.10000000149011612], [8.0, 0.10000000149011612], [9.0, 0.10000000149011612], [10.0, 0.10000000149011612], [11.0, 0.10000000149011612], [12.0, 0.10000000149011612], [13.0, 0.10000000149011612], [14.0, 0.019999999552965164], [15.0, 0.019999999552965164], [16.0, 0.019999999552965164], [17.0, 0.019999999552965164], [18.0, 0.019999999552965164], [19.0, 0.019999999552965164], [20.0, 0.019999999552965164], [21.0, 0.019999999552965164], [22.0, 0.019999999552965164], [23.0, 0.019999999552965164], [24.0, 0.019999999552965164], [25.0, 0.019999999552965164], [26.0, 0.019999999552965164], [27.0, 0.003999999724328518], [28.0, 0.003999999724328518], [29.0, 0.003999999724328518], [30.0, 0.003999999724328518], [31.0, 0.003999999724328518], [32.0, 0.003999999724328518], [33.0, 0.003999999724328518], [34.0, 0.003999999724328518], [35.0, 0.003999999724328518], [36.0, 0.003999999724328518], [37.0, 0.003999999724328518], [38.0, 0.003999999724328518], [39.0, 0.003999999724328518], [40.0, 0.003999999724328518], [41.0, 0.003999999724328518], [42.0, 0.003999999724328518], [43.0, 0.003999999724328518], [44.0, 0.003999999724328518], [45.0, 0.0007999999215826392], [46.0, 0.0007999999215826392], [47.0, 0.0007999999215826392], [48.0, 0.0007999999215826392], [49.0, 0.0007999999215826392], [50.0, 0.0007999999215826392], [51.0, 0.0007999999215826392], [52.0, 0.0007999999215826392], [53.0, 0.0007999999215826392], [54.0, 0.0007999999215826392], [55.0, 0.0007999999215826392], [56.0, 0.0007999999215826392], [57.0, 0.0007999999215826392], [58.0, 0.0007999999215826392], [59.0, 0.0007999999215826392], [60.0, 0.0007999999215826392], [61.0, 0.0007999999215826392], [62.0, 0.0007999999215826392], [63.0, 0.0007999999215826392], [64.0, 0.0007999999215826392], [65.0, 0.0007999999215826392], [66.0, 0.0007999999215826392], [67.0, 0.0007999999215826392], [68.0, 0.0007999999215826392], [69.0, 0.0001599999814061448], [70.0, 0.0001599999814061448], [71.0, 0.0001599999814061448], [72.0, 0.0001599999814061448], [73.0, 0.0001599999814061448], [74.0, 0.0001599999814061448], [75.0, 0.0001599999814061448], [76.0, 0.0001599999814061448], [77.0, 0.0001599999814061448], [78.0, 0.0001599999814061448], [79.0, 0.0001599999814061448], [80.0, 0.0001599999814061448], [81.0, 0.0001599999814061448], [82.0, 0.0001599999814061448], [83.0, 0.0001599999814061448], [84.0, 0.0001599999814061448], [85.0, 0.0001599999814061448], [86.0, 3.199999628122896e-05], [87.0, 3.199999628122896e-05], [88.0, 3.199999628122896e-05], [89.0, 3.199999628122896e-05], [90.0, 3.199999628122896e-05], [91.0, 3.199999628122896e-05], [92.0, 3.199999628122896e-05], [93.0, 3.199999628122896e-05], [94.0, 3.199999628122896e-05], [95.0, 3.199999628122896e-05], [96.0, 3.199999628122896e-05], [97.0, 3.199999628122896e-05], [98.0, 3.199999628122896e-05], [99.0, 6.399999165296322e-06]]}, \"id\": \"el71140209300299728\", \"plugins\": [{\"type\": \"reset\"}, {\"type\": \"zoom\", \"button\": true, \"enabled\": false}, {\"type\": \"boxzoom\", \"button\": true, \"enabled\": false}]});\n",
              "   }(mpld3);\n",
              "}else if(typeof define === \"function\" && define.amd){\n",
              "   // require.js is available: use it to load d3/mpld3\n",
              "   require.config({paths: {d3: \"https://d3js.org/d3.v5\"}});\n",
              "   require([\"d3\"], function(d3){\n",
              "      window.d3 = d3;\n",
              "      mpld3_load_lib(\"https://mpld3.github.io/js/mpld3.v0.5.2.js\", function(){\n",
              "         \n",
              "         mpld3.draw_figure(\"fig_el711402093002997283831772334\", {\"width\": 432.0, \"height\": 288.0, \"axes\": [{\"bbox\": [0.125, 0.125, 0.775, 0.755], \"xlim\": [-4.95, 103.95], \"ylim\": [-0.004993280075382245, 0.10499968156466366], \"xdomain\": [-4.95, 103.95], \"ydomain\": [-0.004993280075382245, 0.10499968156466366], \"xscale\": \"linear\", \"yscale\": \"linear\", \"axes\": [{\"position\": \"bottom\", \"nticks\": 8, \"tickvalues\": null, \"tickformat_formatter\": \"\", \"tickformat\": null, \"scale\": \"linear\", \"fontsize\": 10.0, \"grid\": {\"gridOn\": false}, \"visible\": true}, {\"position\": \"left\", \"nticks\": 8, \"tickvalues\": null, \"tickformat_formatter\": \"\", \"tickformat\": null, \"scale\": \"linear\", \"fontsize\": 10.0, \"grid\": {\"gridOn\": false}, \"visible\": true}], \"axesbg\": \"#FFFFFF\", \"axesbgalpha\": null, \"zoomable\": true, \"id\": \"el71140209300349840\", \"lines\": [{\"data\": \"data01\", \"xindex\": 0, \"yindex\": 1, \"coordinates\": \"data\", \"id\": \"el71140209300409168\", \"color\": \"#1F77B4\", \"linewidth\": 1.5, \"dasharray\": \"none\", \"alpha\": 1, \"zorder\": 2, \"drawstyle\": \"default\"}], \"paths\": [], \"markers\": [], \"texts\": [], \"collections\": [], \"images\": [], \"sharex\": [], \"sharey\": []}], \"data\": {\"data01\": [[0.0, 0.10000000149011612], [1.0, 0.10000000149011612], [2.0, 0.10000000149011612], [3.0, 0.10000000149011612], [4.0, 0.10000000149011612], [5.0, 0.10000000149011612], [6.0, 0.10000000149011612], [7.0, 0.10000000149011612], [8.0, 0.10000000149011612], [9.0, 0.10000000149011612], [10.0, 0.10000000149011612], [11.0, 0.10000000149011612], [12.0, 0.10000000149011612], [13.0, 0.10000000149011612], [14.0, 0.019999999552965164], [15.0, 0.019999999552965164], [16.0, 0.019999999552965164], [17.0, 0.019999999552965164], [18.0, 0.019999999552965164], [19.0, 0.019999999552965164], [20.0, 0.019999999552965164], [21.0, 0.019999999552965164], [22.0, 0.019999999552965164], [23.0, 0.019999999552965164], [24.0, 0.019999999552965164], [25.0, 0.019999999552965164], [26.0, 0.019999999552965164], [27.0, 0.003999999724328518], [28.0, 0.003999999724328518], [29.0, 0.003999999724328518], [30.0, 0.003999999724328518], [31.0, 0.003999999724328518], [32.0, 0.003999999724328518], [33.0, 0.003999999724328518], [34.0, 0.003999999724328518], [35.0, 0.003999999724328518], [36.0, 0.003999999724328518], [37.0, 0.003999999724328518], [38.0, 0.003999999724328518], [39.0, 0.003999999724328518], [40.0, 0.003999999724328518], [41.0, 0.003999999724328518], [42.0, 0.003999999724328518], [43.0, 0.003999999724328518], [44.0, 0.003999999724328518], [45.0, 0.0007999999215826392], [46.0, 0.0007999999215826392], [47.0, 0.0007999999215826392], [48.0, 0.0007999999215826392], [49.0, 0.0007999999215826392], [50.0, 0.0007999999215826392], [51.0, 0.0007999999215826392], [52.0, 0.0007999999215826392], [53.0, 0.0007999999215826392], [54.0, 0.0007999999215826392], [55.0, 0.0007999999215826392], [56.0, 0.0007999999215826392], [57.0, 0.0007999999215826392], [58.0, 0.0007999999215826392], [59.0, 0.0007999999215826392], [60.0, 0.0007999999215826392], [61.0, 0.0007999999215826392], [62.0, 0.0007999999215826392], [63.0, 0.0007999999215826392], [64.0, 0.0007999999215826392], [65.0, 0.0007999999215826392], [66.0, 0.0007999999215826392], [67.0, 0.0007999999215826392], [68.0, 0.0007999999215826392], [69.0, 0.0001599999814061448], [70.0, 0.0001599999814061448], [71.0, 0.0001599999814061448], [72.0, 0.0001599999814061448], [73.0, 0.0001599999814061448], [74.0, 0.0001599999814061448], [75.0, 0.0001599999814061448], [76.0, 0.0001599999814061448], [77.0, 0.0001599999814061448], [78.0, 0.0001599999814061448], [79.0, 0.0001599999814061448], [80.0, 0.0001599999814061448], [81.0, 0.0001599999814061448], [82.0, 0.0001599999814061448], [83.0, 0.0001599999814061448], [84.0, 0.0001599999814061448], [85.0, 0.0001599999814061448], [86.0, 3.199999628122896e-05], [87.0, 3.199999628122896e-05], [88.0, 3.199999628122896e-05], [89.0, 3.199999628122896e-05], [90.0, 3.199999628122896e-05], [91.0, 3.199999628122896e-05], [92.0, 3.199999628122896e-05], [93.0, 3.199999628122896e-05], [94.0, 3.199999628122896e-05], [95.0, 3.199999628122896e-05], [96.0, 3.199999628122896e-05], [97.0, 3.199999628122896e-05], [98.0, 3.199999628122896e-05], [99.0, 6.399999165296322e-06]]}, \"id\": \"el71140209300299728\", \"plugins\": [{\"type\": \"reset\"}, {\"type\": \"zoom\", \"button\": true, \"enabled\": false}, {\"type\": \"boxzoom\", \"button\": true, \"enabled\": false}]});\n",
              "      });\n",
              "    });\n",
              "}else{\n",
              "    // require.js not available: dynamically load d3 & mpld3\n",
              "    mpld3_load_lib(\"https://d3js.org/d3.v5.js\", function(){\n",
              "         mpld3_load_lib(\"https://mpld3.github.io/js/mpld3.v0.5.2.js\", function(){\n",
              "                 \n",
              "                 mpld3.draw_figure(\"fig_el711402093002997283831772334\", {\"width\": 432.0, \"height\": 288.0, \"axes\": [{\"bbox\": [0.125, 0.125, 0.775, 0.755], \"xlim\": [-4.95, 103.95], \"ylim\": [-0.004993280075382245, 0.10499968156466366], \"xdomain\": [-4.95, 103.95], \"ydomain\": [-0.004993280075382245, 0.10499968156466366], \"xscale\": \"linear\", \"yscale\": \"linear\", \"axes\": [{\"position\": \"bottom\", \"nticks\": 8, \"tickvalues\": null, \"tickformat_formatter\": \"\", \"tickformat\": null, \"scale\": \"linear\", \"fontsize\": 10.0, \"grid\": {\"gridOn\": false}, \"visible\": true}, {\"position\": \"left\", \"nticks\": 8, \"tickvalues\": null, \"tickformat_formatter\": \"\", \"tickformat\": null, \"scale\": \"linear\", \"fontsize\": 10.0, \"grid\": {\"gridOn\": false}, \"visible\": true}], \"axesbg\": \"#FFFFFF\", \"axesbgalpha\": null, \"zoomable\": true, \"id\": \"el71140209300349840\", \"lines\": [{\"data\": \"data01\", \"xindex\": 0, \"yindex\": 1, \"coordinates\": \"data\", \"id\": \"el71140209300409168\", \"color\": \"#1F77B4\", \"linewidth\": 1.5, \"dasharray\": \"none\", \"alpha\": 1, \"zorder\": 2, \"drawstyle\": \"default\"}], \"paths\": [], \"markers\": [], \"texts\": [], \"collections\": [], \"images\": [], \"sharex\": [], \"sharey\": []}], \"data\": {\"data01\": [[0.0, 0.10000000149011612], [1.0, 0.10000000149011612], [2.0, 0.10000000149011612], [3.0, 0.10000000149011612], [4.0, 0.10000000149011612], [5.0, 0.10000000149011612], [6.0, 0.10000000149011612], [7.0, 0.10000000149011612], [8.0, 0.10000000149011612], [9.0, 0.10000000149011612], [10.0, 0.10000000149011612], [11.0, 0.10000000149011612], [12.0, 0.10000000149011612], [13.0, 0.10000000149011612], [14.0, 0.019999999552965164], [15.0, 0.019999999552965164], [16.0, 0.019999999552965164], [17.0, 0.019999999552965164], [18.0, 0.019999999552965164], [19.0, 0.019999999552965164], [20.0, 0.019999999552965164], [21.0, 0.019999999552965164], [22.0, 0.019999999552965164], [23.0, 0.019999999552965164], [24.0, 0.019999999552965164], [25.0, 0.019999999552965164], [26.0, 0.019999999552965164], [27.0, 0.003999999724328518], [28.0, 0.003999999724328518], [29.0, 0.003999999724328518], [30.0, 0.003999999724328518], [31.0, 0.003999999724328518], [32.0, 0.003999999724328518], [33.0, 0.003999999724328518], [34.0, 0.003999999724328518], [35.0, 0.003999999724328518], [36.0, 0.003999999724328518], [37.0, 0.003999999724328518], [38.0, 0.003999999724328518], [39.0, 0.003999999724328518], [40.0, 0.003999999724328518], [41.0, 0.003999999724328518], [42.0, 0.003999999724328518], [43.0, 0.003999999724328518], [44.0, 0.003999999724328518], [45.0, 0.0007999999215826392], [46.0, 0.0007999999215826392], [47.0, 0.0007999999215826392], [48.0, 0.0007999999215826392], [49.0, 0.0007999999215826392], [50.0, 0.0007999999215826392], [51.0, 0.0007999999215826392], [52.0, 0.0007999999215826392], [53.0, 0.0007999999215826392], [54.0, 0.0007999999215826392], [55.0, 0.0007999999215826392], [56.0, 0.0007999999215826392], [57.0, 0.0007999999215826392], [58.0, 0.0007999999215826392], [59.0, 0.0007999999215826392], [60.0, 0.0007999999215826392], [61.0, 0.0007999999215826392], [62.0, 0.0007999999215826392], [63.0, 0.0007999999215826392], [64.0, 0.0007999999215826392], [65.0, 0.0007999999215826392], [66.0, 0.0007999999215826392], [67.0, 0.0007999999215826392], [68.0, 0.0007999999215826392], [69.0, 0.0001599999814061448], [70.0, 0.0001599999814061448], [71.0, 0.0001599999814061448], [72.0, 0.0001599999814061448], [73.0, 0.0001599999814061448], [74.0, 0.0001599999814061448], [75.0, 0.0001599999814061448], [76.0, 0.0001599999814061448], [77.0, 0.0001599999814061448], [78.0, 0.0001599999814061448], [79.0, 0.0001599999814061448], [80.0, 0.0001599999814061448], [81.0, 0.0001599999814061448], [82.0, 0.0001599999814061448], [83.0, 0.0001599999814061448], [84.0, 0.0001599999814061448], [85.0, 0.0001599999814061448], [86.0, 3.199999628122896e-05], [87.0, 3.199999628122896e-05], [88.0, 3.199999628122896e-05], [89.0, 3.199999628122896e-05], [90.0, 3.199999628122896e-05], [91.0, 3.199999628122896e-05], [92.0, 3.199999628122896e-05], [93.0, 3.199999628122896e-05], [94.0, 3.199999628122896e-05], [95.0, 3.199999628122896e-05], [96.0, 3.199999628122896e-05], [97.0, 3.199999628122896e-05], [98.0, 3.199999628122896e-05], [99.0, 6.399999165296322e-06]]}, \"id\": \"el71140209300299728\", \"plugins\": [{\"type\": \"reset\"}, {\"type\": \"zoom\", \"button\": true, \"enabled\": false}, {\"type\": \"boxzoom\", \"button\": true, \"enabled\": false}]});\n",
              "            })\n",
              "         });\n",
              "}\n",
              "</script>"
            ],
            "text/plain": [
              "<Figure size 432x288 with 1 Axes>"
            ]
          },
          "metadata": {
            "tags": []
          }
        }
      ]
    },
    {
      "cell_type": "code",
      "metadata": {
        "id": "dsmPOi33yDtN"
      },
      "source": [
        "tempX,tempF,tempy,tempid = get_test_data()"
      ],
      "execution_count": null,
      "outputs": []
    },
    {
      "cell_type": "code",
      "metadata": {
        "id": "KjwYhpgcrDa4"
      },
      "source": [
        "import sklearn.metrics as skm\n",
        "y_pred = model.predict(tempX)\n",
        "y_pred = (y_pred>0.5)\n",
        "y_true = tempy\n",
        "cm = skm.multilabel_confusion_matrix(y_true,y_pred)\n",
        "print(cm)\n",
        "print(skm.classification_report(y_true,y_pred))"
      ],
      "execution_count": null,
      "outputs": []
    },
    {
      "cell_type": "code",
      "metadata": {
        "colab": {
          "base_uri": "https://localhost:8080/"
        },
        "id": "kqB3OUR6rZeb",
        "outputId": "ed28bf37-f89f-4519-d146-226d6b3ff238"
      },
      "source": [
        "cm.shape"
      ],
      "execution_count": null,
      "outputs": [
        {
          "output_type": "execute_result",
          "data": {
            "text/plain": [
              "(27, 2, 2)"
            ]
          },
          "metadata": {
            "tags": []
          },
          "execution_count": 64
        }
      ]
    },
    {
      "cell_type": "code",
      "metadata": {
        "id": "JV8KX_kOsTOk"
      },
      "source": [
        "model = tf.keras.models.load_model(\"/content/drive/MyDrive/signal_data/Tests_2/32_with_feature_05/model\")\n"
      ],
      "execution_count": null,
      "outputs": []
    },
    {
      "cell_type": "code",
      "metadata": {
        "colab": {
          "base_uri": "https://localhost:8080/"
        },
        "id": "rYfKkDvT0hSv",
        "outputId": "d44d6669-f1f8-401b-ffc4-ed6c87bae097"
      },
      "source": [
        "model.optimizer.learning_rate"
      ],
      "execution_count": null,
      "outputs": [
        {
          "output_type": "execute_result",
          "data": {
            "text/plain": [
              "<tf.Variable 'learning_rate:0' shape=() dtype=float32, numpy=0.01>"
            ]
          },
          "metadata": {
            "tags": []
          },
          "execution_count": 8
        }
      ]
    },
    {
      "cell_type": "code",
      "metadata": {
        "id": "Ys3tRmH10iqV"
      },
      "source": [
        ""
      ],
      "execution_count": null,
      "outputs": []
    }
  ]
}